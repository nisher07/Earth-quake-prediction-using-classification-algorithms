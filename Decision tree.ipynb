{
 "cells": [
  {
   "cell_type": "code",
   "execution_count": 1,
   "metadata": {},
   "outputs": [],
   "source": [
    "import numpy as np # linear algebra\n",
    "import pandas as pd # data processing, CSV file I/O (e.g. pd.read_csv)\n",
    "\n",
    "# Input data files are available in the \"../input/\" directory.\n",
    "# For example, running this (by clicking run or pressing Shift+Enter) will list the files in the input directory\n",
    "\n",
    "import os\n",
    "\n",
    "dataset = pd.read_csv(\"quake.csv\")  "
   ]
  },
  {
   "cell_type": "code",
   "execution_count": 2,
   "metadata": {},
   "outputs": [],
   "source": [
    "X=dataset.drop('binaryClass',axis=1)\n",
    "y=dataset['binaryClass']"
   ]
  },
  {
   "cell_type": "code",
   "execution_count": 6,
   "metadata": {
    "scrolled": true
   },
   "outputs": [
    {
     "name": "stdout",
     "output_type": "stream",
     "text": [
      "[[ 91  88]\n",
      " [123 134]]\n",
      "             precision    recall  f1-score   support\n",
      "\n",
      "          N       0.43      0.51      0.46       179\n",
      "          P       0.60      0.52      0.56       257\n",
      "\n",
      "avg / total       0.53      0.52      0.52       436\n",
      "\n",
      "Accuracy of Decision tree:\n",
      "\n",
      "\n",
      " 51.61 % \n",
      "\n"
     ]
    }
   ],
   "source": [
    "from sklearn.model_selection import train_test_split\n",
    "X_train,X_test,y_train,y_test=train_test_split(X,y,test_size=.20)\n",
    "\n",
    "from sklearn.tree import DecisionTreeClassifier\n",
    "classifier=DecisionTreeClassifier()\n",
    "classifier.fit(X_train,y_train)\n",
    "\n",
    "y_pred=classifier.predict(X_test)\n",
    "\n",
    "from sklearn.metrics import classification_report,confusion_matrix,accuracy_score\n",
    "print(confusion_matrix(y_test,y_pred))\n",
    "print(classification_report(y_test,y_pred))\n",
    "print('Accuracy of Decision tree:\\n')\n",
    "print('\\n',round(accuracy_score(y_test,y_pred)*100,2),'%','\\n')"
   ]
  },
  {
   "cell_type": "code",
   "execution_count": 4,
   "metadata": {},
   "outputs": [
    {
     "data": {
      "text/plain": [
       "array(['P', 'N', 'P', 'N', 'P', 'N', 'N', 'P', 'P', 'P', 'N', 'P', 'P',\n",
       "       'N', 'N', 'N', 'N', 'P', 'N', 'N', 'P', 'P', 'P', 'P', 'P', 'P',\n",
       "       'P', 'P', 'N', 'P', 'N', 'P', 'N', 'P', 'P', 'N', 'N', 'P', 'P',\n",
       "       'P', 'P', 'N', 'P', 'N', 'P', 'P', 'N', 'P', 'N', 'N', 'N', 'P',\n",
       "       'P', 'P', 'N', 'P', 'P', 'N', 'P', 'P', 'P', 'N', 'N', 'N', 'P',\n",
       "       'P', 'N', 'P', 'N', 'N', 'P', 'N', 'P', 'P', 'P', 'N', 'N', 'N',\n",
       "       'P', 'P', 'P', 'P', 'N', 'N', 'P', 'P', 'N', 'P', 'N', 'N', 'P',\n",
       "       'N', 'N', 'N', 'N', 'P', 'N', 'N', 'N', 'N', 'P', 'P', 'P', 'N',\n",
       "       'N', 'P', 'P', 'P', 'N', 'P', 'N', 'P', 'P', 'N', 'P', 'P', 'P',\n",
       "       'N', 'P', 'P', 'P', 'P', 'P', 'P', 'P', 'N', 'N', 'N', 'N', 'P',\n",
       "       'P', 'P', 'P', 'N', 'P', 'N', 'N', 'N', 'P', 'N', 'N', 'P', 'P',\n",
       "       'P', 'P', 'P', 'P', 'N', 'P', 'N', 'P', 'P', 'P', 'P', 'P', 'N',\n",
       "       'P', 'P', 'P', 'P', 'P', 'P', 'P', 'N', 'N', 'P', 'N', 'P', 'P',\n",
       "       'P', 'N', 'P', 'P', 'N', 'P', 'N', 'N', 'N', 'P', 'P', 'P', 'P',\n",
       "       'N', 'N', 'N', 'P', 'P', 'P', 'P', 'N', 'P', 'P', 'N', 'P', 'P',\n",
       "       'P', 'P', 'N', 'N', 'P', 'P', 'P', 'N', 'N', 'N', 'P', 'P', 'N',\n",
       "       'P', 'N', 'P', 'N', 'P', 'P', 'P', 'P', 'P', 'P', 'P', 'P', 'N',\n",
       "       'N', 'P', 'N', 'P', 'N', 'P', 'N', 'N', 'N', 'P', 'P', 'P', 'P',\n",
       "       'N', 'N', 'P', 'N', 'P', 'N', 'N', 'N', 'N', 'N', 'N', 'N', 'P',\n",
       "       'N', 'N', 'N', 'N', 'P', 'N', 'N', 'N', 'N', 'N', 'P', 'P', 'N',\n",
       "       'N', 'P', 'N', 'N', 'N', 'N', 'P', 'P', 'P', 'P', 'N', 'N', 'P',\n",
       "       'N', 'P', 'P', 'N', 'P', 'P', 'P', 'P', 'P', 'P', 'N', 'N', 'P',\n",
       "       'N', 'N', 'N', 'N', 'P', 'P', 'P', 'N', 'P', 'N', 'N', 'P', 'P',\n",
       "       'N', 'P', 'N', 'P', 'P', 'P', 'P', 'N', 'N', 'P', 'N', 'P', 'P',\n",
       "       'N', 'P', 'P', 'P', 'P', 'P', 'P', 'P', 'N', 'N', 'P', 'N', 'P',\n",
       "       'N', 'P', 'P', 'P', 'P', 'P', 'P', 'P', 'P', 'N', 'N', 'P', 'N',\n",
       "       'N', 'N', 'N', 'P', 'P', 'P', 'P', 'N', 'N', 'N', 'N', 'P', 'N',\n",
       "       'P', 'P', 'P', 'N', 'P', 'P', 'N', 'P', 'P', 'P', 'N', 'N', 'N',\n",
       "       'P', 'N', 'N', 'N', 'P', 'N', 'N', 'P', 'N', 'N', 'P', 'N', 'P',\n",
       "       'N', 'P', 'N', 'P', 'N', 'N', 'N', 'P', 'P', 'P', 'N', 'P', 'P',\n",
       "       'P', 'N', 'N', 'P', 'N', 'N', 'P', 'N', 'P', 'N', 'P', 'P', 'N',\n",
       "       'P', 'N', 'P', 'P', 'N', 'P', 'P', 'P', 'N', 'P', 'P', 'N', 'N',\n",
       "       'N', 'P', 'N', 'N', 'N', 'N', 'P', 'N', 'P', 'N', 'N', 'P', 'P',\n",
       "       'P', 'N', 'P', 'P', 'N', 'P', 'P', 'N', 'P', 'P', 'P', 'P', 'P',\n",
       "       'N', 'N', 'P', 'P', 'P', 'P', 'N', 'P', 'N', 'P', 'P', 'N', 'N',\n",
       "       'N', 'N', 'N', 'N', 'N', 'N', 'N', 'P', 'P', 'P', 'P', 'P', 'P',\n",
       "       'N', 'P', 'P', 'N', 'P', 'N', 'N', 'P', 'N', 'P', 'P', 'N', 'N',\n",
       "       'N', 'P', 'N', 'N', 'P', 'N', 'N', 'N', 'P', 'P', 'N', 'P', 'P',\n",
       "       'P', 'P', 'N', 'P', 'P', 'P', 'N', 'N', 'P', 'P', 'P', 'P', 'N',\n",
       "       'P', 'N', 'N', 'N', 'N', 'N', 'N', 'P', 'N', 'P', 'P', 'N', 'P',\n",
       "       'P', 'N', 'N', 'N', 'P', 'N', 'P', 'P', 'P', 'P', 'N', 'P', 'P',\n",
       "       'N', 'N', 'P', 'N', 'P', 'N', 'N', 'P', 'N', 'P', 'N', 'N', 'P',\n",
       "       'N', 'N', 'N', 'P', 'N', 'P', 'P', 'P', 'P', 'P', 'P', 'P', 'N',\n",
       "       'P', 'N', 'P', 'P', 'P', 'N', 'P', 'N', 'P', 'N', 'P', 'N', 'N',\n",
       "       'N', 'N', 'N', 'N', 'P', 'N', 'N', 'N', 'P', 'P', 'N', 'P', 'N',\n",
       "       'N', 'P', 'P', 'N', 'P', 'P', 'N', 'N', 'N', 'N', 'N', 'N', 'P',\n",
       "       'P', 'N', 'P', 'P', 'P', 'P', 'P', 'P', 'N', 'N', 'P', 'P', 'N',\n",
       "       'N', 'N', 'P', 'P', 'P', 'N', 'P', 'P', 'P', 'P', 'P', 'P', 'P',\n",
       "       'P', 'P', 'N', 'N', 'N', 'P', 'P', 'P', 'N', 'N', 'P', 'P', 'P',\n",
       "       'N', 'P', 'P', 'P', 'P', 'P', 'N', 'P', 'P', 'N', 'P', 'N', 'P',\n",
       "       'P', 'N', 'P', 'N'], dtype=object)"
      ]
     },
     "execution_count": 4,
     "metadata": {},
     "output_type": "execute_result"
    }
   ],
   "source": [
    "predicted_values=y_pred\n",
    "predicted_values"
   ]
  }
 ],
 "metadata": {
  "kernelspec": {
   "display_name": "Python 3",
   "language": "python",
   "name": "python3"
  },
  "language_info": {
   "codemirror_mode": {
    "name": "ipython",
    "version": 3
   },
   "file_extension": ".py",
   "mimetype": "text/x-python",
   "name": "python",
   "nbconvert_exporter": "python",
   "pygments_lexer": "ipython3",
   "version": "3.7.0"
  }
 },
 "nbformat": 4,
 "nbformat_minor": 2
}
