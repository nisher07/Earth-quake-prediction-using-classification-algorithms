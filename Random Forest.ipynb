{
 "cells": [
  {
   "cell_type": "code",
   "execution_count": 1,
   "metadata": {},
   "outputs": [
    {
     "name": "stdout",
     "output_type": "stream",
     "text": [
      "[0 1 1 ... 1 0 1]\n"
     ]
    }
   ],
   "source": [
    "import pandas as pd  \n",
    "import numpy as np \n",
    "dataset = pd.read_csv(\"quake.csv\")  \n",
    "# Convert categorical variable to numeric\n",
    "dataset[\"binaryClass_cleaned\"]=np.where(dataset[\"binaryClass\"]==\"N\",0,1)\n",
    "dataset=dataset[[\n",
    "    \"focal_depth\",\n",
    "    \"latitude\",\n",
    "    \"longitude\",\n",
    "    \"binaryClass_cleaned\"\n",
    "]].dropna(axis=0, how='any') \n",
    " \n",
    "X = dataset.iloc[:, 0:3].values  \n",
    "y = dataset.iloc[:, 3].values \n",
    "print(y)"
   ]
  },
  {
   "cell_type": "code",
   "execution_count": 21,
   "metadata": {},
   "outputs": [],
   "source": [
    "from sklearn.model_selection import train_test_split\n",
    "\n",
    "X_train, X_test, y_train, y_test = train_test_split(X, y, test_size=0.2, random_state=10)  "
   ]
  },
  {
   "cell_type": "code",
   "execution_count": 22,
   "metadata": {},
   "outputs": [],
   "source": [
    "from sklearn.ensemble import RandomForestRegressor\n",
    "\n",
    "regressor = RandomForestRegressor(n_estimators=20, random_state=10)  \n",
    "regressor.fit(X_train, y_train)  \n",
    "y_pred = regressor.predict(X_test)  "
   ]
  },
  {
   "cell_type": "code",
   "execution_count": 23,
   "metadata": {},
   "outputs": [
    {
     "name": "stdout",
     "output_type": "stream",
     "text": [
      "[[ 89  99]\n",
      " [113 135]]\n",
      "             precision    recall  f1-score   support\n",
      "\n",
      "          0       0.44      0.47      0.46       188\n",
      "          1       0.58      0.54      0.56       248\n",
      "\n",
      "avg / total       0.52      0.51      0.52       436\n",
      "\n",
      "\n",
      " 51.38 % \n",
      "\n"
     ]
    }
   ],
   "source": [
    "from sklearn.metrics import classification_report, confusion_matrix, accuracy_score\n",
    "\n",
    "print(confusion_matrix(y_test,y_pred.round()))  \n",
    "print(classification_report(y_test,y_pred.round()))    \n",
    "print('\\n',round(accuracy_score(y_test,y_pred.round())*100,2),'%','\\n')"
   ]
  },
  {
   "cell_type": "code",
   "execution_count": null,
   "metadata": {},
   "outputs": [],
   "source": []
  }
 ],
 "metadata": {
  "kernelspec": {
   "display_name": "Python 3",
   "language": "python",
   "name": "python3"
  },
  "language_info": {
   "codemirror_mode": {
    "name": "ipython",
    "version": 3
   },
   "file_extension": ".py",
   "mimetype": "text/x-python",
   "name": "python",
   "nbconvert_exporter": "python",
   "pygments_lexer": "ipython3",
   "version": "3.7.0"
  }
 },
 "nbformat": 4,
 "nbformat_minor": 2
}
