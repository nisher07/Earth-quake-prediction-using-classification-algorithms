{
 "cells": [
  {
   "cell_type": "code",
   "execution_count": 5,
   "metadata": {},
   "outputs": [
    {
     "name": "stdout",
     "output_type": "stream",
     "text": [
      "[[  0 198]\n",
      " [  0 238]]\n",
      "             precision    recall  f1-score   support\n",
      "\n",
      "          0       0.00      0.00      0.00       198\n",
      "          1       0.55      1.00      0.71       238\n",
      "\n",
      "avg / total       0.30      0.55      0.39       436\n",
      "\n",
      "\n",
      " 54.59 % \n",
      "\n"
     ]
    },
    {
     "name": "stderr",
     "output_type": "stream",
     "text": [
      "C:\\Users\\Shahriyer\\Anaconda3\\lib\\site-packages\\sklearn\\metrics\\classification.py:1135: UndefinedMetricWarning: Precision and F-score are ill-defined and being set to 0.0 in labels with no predicted samples.\n",
      "  'precision', 'predicted', average, warn_for)\n"
     ]
    }
   ],
   "source": [
    "import pandas as pd  \n",
    "import numpy as np  \n",
    "import matplotlib.pyplot as plt  \n",
    "%matplotlib inline\n",
    "\n",
    "dataset = pd.read_csv(\"quake.csv\")\n",
    "# Convert categorical variable to numeric\n",
    "dataset[\"binaryClass_cleaned\"]=np.where(dataset[\"binaryClass\"]==\"N\",0,1)\n",
    "dataset=dataset[[\n",
    "    \"focal_depth\",\n",
    "    \"latitude\",\n",
    "    \"longitude\",\n",
    "    \"binaryClass_cleaned\"\n",
    "]].dropna(axis=0, how='any') \n",
    "\n",
    "X = dataset.drop('binaryClass_cleaned', axis=1)  \n",
    "y = dataset['binaryClass_cleaned']  \n",
    "\n",
    "from sklearn.model_selection import train_test_split  \n",
    "X_train, X_test, y_train, y_test = train_test_split(X, y, test_size = 0.20)  \n",
    "\n",
    "from sklearn.svm import SVC  \n",
    "svclassifier = SVC(kernel='linear')  \n",
    "svclassifier.fit(X_train, y_train)  \n",
    "\n",
    "y_pred = svclassifier.predict(X_test) \n",
    "from sklearn.metrics import classification_report, confusion_matrix, accuracy_score\n",
    "print(confusion_matrix(y_test,y_pred))  \n",
    "print(classification_report(y_test,y_pred)) \n",
    "print('\\n',round(accuracy_score(y_test,y_pred)*100,2),'%','\\n')"
   ]
  },
  {
   "cell_type": "code",
   "execution_count": null,
   "metadata": {},
   "outputs": [],
   "source": []
  }
 ],
 "metadata": {
  "kernelspec": {
   "display_name": "Python 3",
   "language": "python",
   "name": "python3"
  },
  "language_info": {
   "codemirror_mode": {
    "name": "ipython",
    "version": 3
   },
   "file_extension": ".py",
   "mimetype": "text/x-python",
   "name": "python",
   "nbconvert_exporter": "python",
   "pygments_lexer": "ipython3",
   "version": "3.7.0"
  }
 },
 "nbformat": 4,
 "nbformat_minor": 2
}
